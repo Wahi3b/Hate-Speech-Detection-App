{
  "cells": [
    {
      "cell_type": "code",
      "execution_count": null,
      "id": "1a20822b-344d-4725-b151-69cd1d986189",
      "metadata": {
        "colab": {
          "base_uri": "https://localhost:8080/"
        },
        "id": "1a20822b-344d-4725-b151-69cd1d986189",
        "outputId": "ea800576-ae99-4092-9121-3e58c3fdf203"
      },
      "outputs": [
        {
          "output_type": "stream",
          "name": "stdout",
          "text": [
            "Requirement already satisfied: pandas in /usr/local/lib/python3.10/dist-packages (2.1.4)\n",
            "Requirement already satisfied: nltk in /usr/local/lib/python3.10/dist-packages (3.8.1)\n",
            "Requirement already satisfied: textblob in /usr/local/lib/python3.10/dist-packages (0.17.1)\n",
            "Requirement already satisfied: scikit-learn in /usr/local/lib/python3.10/dist-packages (1.3.2)\n",
            "Collecting lime\n",
            "  Downloading lime-0.2.0.1.tar.gz (275 kB)\n",
            "\u001b[2K     \u001b[90m━━━━━━━━━━━━━━━━━━━━━━━━━━━━━━━━━━━━━━━━\u001b[0m \u001b[32m275.7/275.7 kB\u001b[0m \u001b[31m5.0 MB/s\u001b[0m eta \u001b[36m0:00:00\u001b[0m\n",
            "\u001b[?25h  Preparing metadata (setup.py) ... \u001b[?25l\u001b[?25hdone\n",
            "Requirement already satisfied: joblib in /usr/local/lib/python3.10/dist-packages (1.4.2)\n",
            "Requirement already satisfied: numpy<2,>=1.22.4 in /usr/local/lib/python3.10/dist-packages (from pandas) (1.26.4)\n",
            "Requirement already satisfied: python-dateutil>=2.8.2 in /usr/local/lib/python3.10/dist-packages (from pandas) (2.8.2)\n",
            "Requirement already satisfied: pytz>=2020.1 in /usr/local/lib/python3.10/dist-packages (from pandas) (2024.1)\n",
            "Requirement already satisfied: tzdata>=2022.1 in /usr/local/lib/python3.10/dist-packages (from pandas) (2024.1)\n",
            "Requirement already satisfied: click in /usr/local/lib/python3.10/dist-packages (from nltk) (8.1.7)\n",
            "Requirement already satisfied: regex>=2021.8.3 in /usr/local/lib/python3.10/dist-packages (from nltk) (2024.5.15)\n",
            "Requirement already satisfied: tqdm in /usr/local/lib/python3.10/dist-packages (from nltk) (4.66.5)\n",
            "Requirement already satisfied: scipy>=1.5.0 in /usr/local/lib/python3.10/dist-packages (from scikit-learn) (1.13.1)\n",
            "Requirement already satisfied: threadpoolctl>=2.0.0 in /usr/local/lib/python3.10/dist-packages (from scikit-learn) (3.5.0)\n",
            "Requirement already satisfied: matplotlib in /usr/local/lib/python3.10/dist-packages (from lime) (3.7.1)\n",
            "Requirement already satisfied: scikit-image>=0.12 in /usr/local/lib/python3.10/dist-packages (from lime) (0.23.2)\n",
            "Requirement already satisfied: six>=1.5 in /usr/local/lib/python3.10/dist-packages (from python-dateutil>=2.8.2->pandas) (1.16.0)\n",
            "Requirement already satisfied: networkx>=2.8 in /usr/local/lib/python3.10/dist-packages (from scikit-image>=0.12->lime) (3.3)\n",
            "Requirement already satisfied: pillow>=9.1 in /usr/local/lib/python3.10/dist-packages (from scikit-image>=0.12->lime) (9.4.0)\n",
            "Requirement already satisfied: imageio>=2.33 in /usr/local/lib/python3.10/dist-packages (from scikit-image>=0.12->lime) (2.34.2)\n",
            "Requirement already satisfied: tifffile>=2022.8.12 in /usr/local/lib/python3.10/dist-packages (from scikit-image>=0.12->lime) (2024.7.24)\n",
            "Requirement already satisfied: packaging>=21 in /usr/local/lib/python3.10/dist-packages (from scikit-image>=0.12->lime) (24.1)\n",
            "Requirement already satisfied: lazy-loader>=0.4 in /usr/local/lib/python3.10/dist-packages (from scikit-image>=0.12->lime) (0.4)\n",
            "Requirement already satisfied: contourpy>=1.0.1 in /usr/local/lib/python3.10/dist-packages (from matplotlib->lime) (1.2.1)\n",
            "Requirement already satisfied: cycler>=0.10 in /usr/local/lib/python3.10/dist-packages (from matplotlib->lime) (0.12.1)\n",
            "Requirement already satisfied: fonttools>=4.22.0 in /usr/local/lib/python3.10/dist-packages (from matplotlib->lime) (4.53.1)\n",
            "Requirement already satisfied: kiwisolver>=1.0.1 in /usr/local/lib/python3.10/dist-packages (from matplotlib->lime) (1.4.5)\n",
            "Requirement already satisfied: pyparsing>=2.3.1 in /usr/local/lib/python3.10/dist-packages (from matplotlib->lime) (3.1.2)\n",
            "Building wheels for collected packages: lime\n",
            "  Building wheel for lime (setup.py) ... \u001b[?25l\u001b[?25hdone\n",
            "  Created wheel for lime: filename=lime-0.2.0.1-py3-none-any.whl size=283834 sha256=a2a80585376188a227df9294276227033c2c90961d5e1606f8bb0c5317721620\n",
            "  Stored in directory: /root/.cache/pip/wheels/fd/a2/af/9ac0a1a85a27f314a06b39e1f492bee1547d52549a4606ed89\n",
            "Successfully built lime\n",
            "Installing collected packages: lime\n",
            "Successfully installed lime-0.2.0.1\n"
          ]
        }
      ],
      "source": [
        "pip install pandas nltk textblob scikit-learn lime joblib\n"
      ]
    },
    {
      "cell_type": "code",
      "execution_count": null,
      "id": "9a74ed2f-1f46-418e-8f3d-2161445506df",
      "metadata": {
        "colab": {
          "base_uri": "https://localhost:8080/"
        },
        "id": "9a74ed2f-1f46-418e-8f3d-2161445506df",
        "outputId": "b06b4feb-cc55-4ad9-b610-5e3a66f1d264"
      },
      "outputs": [
        {
          "output_type": "stream",
          "name": "stderr",
          "text": [
            "[nltk_data] Downloading package stopwords to /root/nltk_data...\n",
            "[nltk_data]   Unzipping corpora/stopwords.zip.\n",
            "[nltk_data] Downloading package punkt to /root/nltk_data...\n",
            "[nltk_data]   Unzipping tokenizers/punkt.zip.\n",
            "[nltk_data] Downloading package wordnet to /root/nltk_data...\n"
          ]
        }
      ],
      "source": [
        "# import libraries\n",
        "import pandas as pd\n",
        "import re\n",
        "import nltk\n",
        "from textblob import TextBlob\n",
        "from nltk.corpus import stopwords\n",
        "from nltk.stem import PorterStemmer, WordNetLemmatizer\n",
        "from nltk.tokenize import word_tokenize\n",
        "nltk.download('stopwords')\n",
        "nltk.download('punkt')\n",
        "nltk.download('wordnet')\n",
        "import lime\n"
      ]
    },
    {
      "cell_type": "code",
      "execution_count": null,
      "id": "c00ed02b-fa19-4235-8d56-4248e8d76d08",
      "metadata": {
        "colab": {
          "base_uri": "https://localhost:8080/",
          "height": 206
        },
        "id": "c00ed02b-fa19-4235-8d56-4248e8d76d08",
        "outputId": "af724ca6-b1bb-45f5-e027-9b8f9c20005c"
      },
      "outputs": [
        {
          "output_type": "execute_result",
          "data": {
            "text/plain": [
              "   hate_speech_count                                              tweet\n",
              "0                  1  !!!!!!!!!!!!!!!!!!\"@T_Madison_x: The shit just...\n",
              "1                  1  \" @rhythmixx_ :hobbies include: fighting Maria...\n",
              "2                  1                            \" bitch get up off me \"\n",
              "3                  1                          \" bitch who do you love \"\n",
              "4                  1  \" these hoes like niggas that spend money not ..."
            ],
            "text/html": [
              "\n",
              "  <div id=\"df-7762e127-05f8-400f-aa86-864035196409\" class=\"colab-df-container\">\n",
              "    <div>\n",
              "<style scoped>\n",
              "    .dataframe tbody tr th:only-of-type {\n",
              "        vertical-align: middle;\n",
              "    }\n",
              "\n",
              "    .dataframe tbody tr th {\n",
              "        vertical-align: top;\n",
              "    }\n",
              "\n",
              "    .dataframe thead th {\n",
              "        text-align: right;\n",
              "    }\n",
              "</style>\n",
              "<table border=\"1\" class=\"dataframe\">\n",
              "  <thead>\n",
              "    <tr style=\"text-align: right;\">\n",
              "      <th></th>\n",
              "      <th>hate_speech_count</th>\n",
              "      <th>tweet</th>\n",
              "    </tr>\n",
              "  </thead>\n",
              "  <tbody>\n",
              "    <tr>\n",
              "      <th>0</th>\n",
              "      <td>1</td>\n",
              "      <td>!!!!!!!!!!!!!!!!!!\"@T_Madison_x: The shit just...</td>\n",
              "    </tr>\n",
              "    <tr>\n",
              "      <th>1</th>\n",
              "      <td>1</td>\n",
              "      <td>\" @rhythmixx_ :hobbies include: fighting Maria...</td>\n",
              "    </tr>\n",
              "    <tr>\n",
              "      <th>2</th>\n",
              "      <td>1</td>\n",
              "      <td>\" bitch get up off me \"</td>\n",
              "    </tr>\n",
              "    <tr>\n",
              "      <th>3</th>\n",
              "      <td>1</td>\n",
              "      <td>\" bitch who do you love \"</td>\n",
              "    </tr>\n",
              "    <tr>\n",
              "      <th>4</th>\n",
              "      <td>1</td>\n",
              "      <td>\" these hoes like niggas that spend money not ...</td>\n",
              "    </tr>\n",
              "  </tbody>\n",
              "</table>\n",
              "</div>\n",
              "    <div class=\"colab-df-buttons\">\n",
              "\n",
              "  <div class=\"colab-df-container\">\n",
              "    <button class=\"colab-df-convert\" onclick=\"convertToInteractive('df-7762e127-05f8-400f-aa86-864035196409')\"\n",
              "            title=\"Convert this dataframe to an interactive table.\"\n",
              "            style=\"display:none;\">\n",
              "\n",
              "  <svg xmlns=\"http://www.w3.org/2000/svg\" height=\"24px\" viewBox=\"0 -960 960 960\">\n",
              "    <path d=\"M120-120v-720h720v720H120Zm60-500h600v-160H180v160Zm220 220h160v-160H400v160Zm0 220h160v-160H400v160ZM180-400h160v-160H180v160Zm440 0h160v-160H620v160ZM180-180h160v-160H180v160Zm440 0h160v-160H620v160Z\"/>\n",
              "  </svg>\n",
              "    </button>\n",
              "\n",
              "  <style>\n",
              "    .colab-df-container {\n",
              "      display:flex;\n",
              "      gap: 12px;\n",
              "    }\n",
              "\n",
              "    .colab-df-convert {\n",
              "      background-color: #E8F0FE;\n",
              "      border: none;\n",
              "      border-radius: 50%;\n",
              "      cursor: pointer;\n",
              "      display: none;\n",
              "      fill: #1967D2;\n",
              "      height: 32px;\n",
              "      padding: 0 0 0 0;\n",
              "      width: 32px;\n",
              "    }\n",
              "\n",
              "    .colab-df-convert:hover {\n",
              "      background-color: #E2EBFA;\n",
              "      box-shadow: 0px 1px 2px rgba(60, 64, 67, 0.3), 0px 1px 3px 1px rgba(60, 64, 67, 0.15);\n",
              "      fill: #174EA6;\n",
              "    }\n",
              "\n",
              "    .colab-df-buttons div {\n",
              "      margin-bottom: 4px;\n",
              "    }\n",
              "\n",
              "    [theme=dark] .colab-df-convert {\n",
              "      background-color: #3B4455;\n",
              "      fill: #D2E3FC;\n",
              "    }\n",
              "\n",
              "    [theme=dark] .colab-df-convert:hover {\n",
              "      background-color: #434B5C;\n",
              "      box-shadow: 0px 1px 3px 1px rgba(0, 0, 0, 0.15);\n",
              "      filter: drop-shadow(0px 1px 2px rgba(0, 0, 0, 0.3));\n",
              "      fill: #FFFFFF;\n",
              "    }\n",
              "  </style>\n",
              "\n",
              "    <script>\n",
              "      const buttonEl =\n",
              "        document.querySelector('#df-7762e127-05f8-400f-aa86-864035196409 button.colab-df-convert');\n",
              "      buttonEl.style.display =\n",
              "        google.colab.kernel.accessAllowed ? 'block' : 'none';\n",
              "\n",
              "      async function convertToInteractive(key) {\n",
              "        const element = document.querySelector('#df-7762e127-05f8-400f-aa86-864035196409');\n",
              "        const dataTable =\n",
              "          await google.colab.kernel.invokeFunction('convertToInteractive',\n",
              "                                                    [key], {});\n",
              "        if (!dataTable) return;\n",
              "\n",
              "        const docLinkHtml = 'Like what you see? Visit the ' +\n",
              "          '<a target=\"_blank\" href=https://colab.research.google.com/notebooks/data_table.ipynb>data table notebook</a>'\n",
              "          + ' to learn more about interactive tables.';\n",
              "        element.innerHTML = '';\n",
              "        dataTable['output_type'] = 'display_data';\n",
              "        await google.colab.output.renderOutput(dataTable, element);\n",
              "        const docLink = document.createElement('div');\n",
              "        docLink.innerHTML = docLinkHtml;\n",
              "        element.appendChild(docLink);\n",
              "      }\n",
              "    </script>\n",
              "  </div>\n",
              "\n",
              "\n",
              "<div id=\"df-307c4a09-e454-4bcc-9621-cbcf97b328e2\">\n",
              "  <button class=\"colab-df-quickchart\" onclick=\"quickchart('df-307c4a09-e454-4bcc-9621-cbcf97b328e2')\"\n",
              "            title=\"Suggest charts\"\n",
              "            style=\"display:none;\">\n",
              "\n",
              "<svg xmlns=\"http://www.w3.org/2000/svg\" height=\"24px\"viewBox=\"0 0 24 24\"\n",
              "     width=\"24px\">\n",
              "    <g>\n",
              "        <path d=\"M19 3H5c-1.1 0-2 .9-2 2v14c0 1.1.9 2 2 2h14c1.1 0 2-.9 2-2V5c0-1.1-.9-2-2-2zM9 17H7v-7h2v7zm4 0h-2V7h2v10zm4 0h-2v-4h2v4z\"/>\n",
              "    </g>\n",
              "</svg>\n",
              "  </button>\n",
              "\n",
              "<style>\n",
              "  .colab-df-quickchart {\n",
              "      --bg-color: #E8F0FE;\n",
              "      --fill-color: #1967D2;\n",
              "      --hover-bg-color: #E2EBFA;\n",
              "      --hover-fill-color: #174EA6;\n",
              "      --disabled-fill-color: #AAA;\n",
              "      --disabled-bg-color: #DDD;\n",
              "  }\n",
              "\n",
              "  [theme=dark] .colab-df-quickchart {\n",
              "      --bg-color: #3B4455;\n",
              "      --fill-color: #D2E3FC;\n",
              "      --hover-bg-color: #434B5C;\n",
              "      --hover-fill-color: #FFFFFF;\n",
              "      --disabled-bg-color: #3B4455;\n",
              "      --disabled-fill-color: #666;\n",
              "  }\n",
              "\n",
              "  .colab-df-quickchart {\n",
              "    background-color: var(--bg-color);\n",
              "    border: none;\n",
              "    border-radius: 50%;\n",
              "    cursor: pointer;\n",
              "    display: none;\n",
              "    fill: var(--fill-color);\n",
              "    height: 32px;\n",
              "    padding: 0;\n",
              "    width: 32px;\n",
              "  }\n",
              "\n",
              "  .colab-df-quickchart:hover {\n",
              "    background-color: var(--hover-bg-color);\n",
              "    box-shadow: 0 1px 2px rgba(60, 64, 67, 0.3), 0 1px 3px 1px rgba(60, 64, 67, 0.15);\n",
              "    fill: var(--button-hover-fill-color);\n",
              "  }\n",
              "\n",
              "  .colab-df-quickchart-complete:disabled,\n",
              "  .colab-df-quickchart-complete:disabled:hover {\n",
              "    background-color: var(--disabled-bg-color);\n",
              "    fill: var(--disabled-fill-color);\n",
              "    box-shadow: none;\n",
              "  }\n",
              "\n",
              "  .colab-df-spinner {\n",
              "    border: 2px solid var(--fill-color);\n",
              "    border-color: transparent;\n",
              "    border-bottom-color: var(--fill-color);\n",
              "    animation:\n",
              "      spin 1s steps(1) infinite;\n",
              "  }\n",
              "\n",
              "  @keyframes spin {\n",
              "    0% {\n",
              "      border-color: transparent;\n",
              "      border-bottom-color: var(--fill-color);\n",
              "      border-left-color: var(--fill-color);\n",
              "    }\n",
              "    20% {\n",
              "      border-color: transparent;\n",
              "      border-left-color: var(--fill-color);\n",
              "      border-top-color: var(--fill-color);\n",
              "    }\n",
              "    30% {\n",
              "      border-color: transparent;\n",
              "      border-left-color: var(--fill-color);\n",
              "      border-top-color: var(--fill-color);\n",
              "      border-right-color: var(--fill-color);\n",
              "    }\n",
              "    40% {\n",
              "      border-color: transparent;\n",
              "      border-right-color: var(--fill-color);\n",
              "      border-top-color: var(--fill-color);\n",
              "    }\n",
              "    60% {\n",
              "      border-color: transparent;\n",
              "      border-right-color: var(--fill-color);\n",
              "    }\n",
              "    80% {\n",
              "      border-color: transparent;\n",
              "      border-right-color: var(--fill-color);\n",
              "      border-bottom-color: var(--fill-color);\n",
              "    }\n",
              "    90% {\n",
              "      border-color: transparent;\n",
              "      border-bottom-color: var(--fill-color);\n",
              "    }\n",
              "  }\n",
              "</style>\n",
              "\n",
              "  <script>\n",
              "    async function quickchart(key) {\n",
              "      const quickchartButtonEl =\n",
              "        document.querySelector('#' + key + ' button');\n",
              "      quickchartButtonEl.disabled = true;  // To prevent multiple clicks.\n",
              "      quickchartButtonEl.classList.add('colab-df-spinner');\n",
              "      try {\n",
              "        const charts = await google.colab.kernel.invokeFunction(\n",
              "            'suggestCharts', [key], {});\n",
              "      } catch (error) {\n",
              "        console.error('Error during call to suggestCharts:', error);\n",
              "      }\n",
              "      quickchartButtonEl.classList.remove('colab-df-spinner');\n",
              "      quickchartButtonEl.classList.add('colab-df-quickchart-complete');\n",
              "    }\n",
              "    (() => {\n",
              "      let quickchartButtonEl =\n",
              "        document.querySelector('#df-307c4a09-e454-4bcc-9621-cbcf97b328e2 button');\n",
              "      quickchartButtonEl.style.display =\n",
              "        google.colab.kernel.accessAllowed ? 'block' : 'none';\n",
              "    })();\n",
              "  </script>\n",
              "</div>\n",
              "\n",
              "    </div>\n",
              "  </div>\n"
            ],
            "application/vnd.google.colaboratory.intrinsic+json": {
              "type": "dataframe",
              "variable_name": "df",
              "summary": "{\n  \"name\": \"df\",\n  \"rows\": 10046,\n  \"fields\": [\n    {\n      \"column\": \"hate_speech_count\",\n      \"properties\": {\n        \"dtype\": \"number\",\n        \"std\": 0,\n        \"min\": 0,\n        \"max\": 1,\n        \"num_unique_values\": 2,\n        \"samples\": [\n          0,\n          1\n        ],\n        \"semantic_type\": \"\",\n        \"description\": \"\"\n      }\n    },\n    {\n      \"column\": \"tweet\",\n      \"properties\": {\n        \"dtype\": \"string\",\n        \"num_unique_values\": 10046,\n        \"samples\": [\n          \"RT @HG_Shit: @1BookieG aye g.. I fucked yo bitch again by mistake..\",\n          \"@Adrian1_knowsu &#9757;&#65039;no ghetto names &#128581;\"\n        ],\n        \"semantic_type\": \"\",\n        \"description\": \"\"\n      }\n    }\n  ]\n}"
            }
          },
          "metadata": {},
          "execution_count": 3
        }
      ],
      "source": [
        "df = pd.read_csv(\"dataset - modified - equal - v3.csv\")\n",
        "df.head()"
      ]
    },
    {
      "cell_type": "code",
      "execution_count": null,
      "id": "4c8a4d0b-a2d1-43b1-8bbd-f9d9976c8a41",
      "metadata": {
        "id": "4c8a4d0b-a2d1-43b1-8bbd-f9d9976c8a41"
      },
      "outputs": [],
      "source": [
        "#Data Cleaning\n",
        "def remove_unwanted_text(content):\n",
        "    handle = re.sub('@[^\\s]+', '', content)\n",
        "    link = re.sub('http[^\\s]+', '', handle)\n",
        "    link = re.sub('www[^\\s]+', '', link)\n",
        "    ht = re.sub('#[^\\s]+', '', link)\n",
        "    final = re.sub('&[^\\s]+', '', ht)\n",
        "    return final\n",
        "\n",
        "def remove_punctuations(words):\n",
        "    new_words = []\n",
        "    for w in words:\n",
        "        l = re.sub('[^A-Za-z ]+', '', w)\n",
        "        if l != '':\n",
        "            new_words.append(l)\n",
        "    return new_words\n",
        "\n",
        "def remove_stop_words(words):\n",
        "    sw = stopwords.words(\"english\")\n",
        "    sw = remove_punctuations(sw)\n",
        "    return [w for w in words if w.lower() not in sw]\n",
        "\n",
        "def stem_words(words):\n",
        "    from nltk.stem import PorterStemmer\n",
        "    from nltk.tokenize import word_tokenize\n",
        "    stemmer = PorterStemmer()\n",
        "    return [stemmer.stem(word) for word in words]\n",
        "\n",
        "def lemmatize_words(words):\n",
        "\n",
        "    lemmatizer = WordNetLemmatizer()\n",
        "    return [lemmatizer.lemmatize(word) for word in words]\n",
        "\n",
        "def clean_data(content):\n",
        "    cleaned_data = []\n",
        "    for i in range(len(content)):\n",
        "\n",
        "        tweet = remove_unwanted_text(content[i].lower())\n",
        "        tb = TextBlob(tweet)\n",
        "        words = remove_punctuations(tb.words)\n",
        "        lemmatized_words = lemmatize_words(words)\n",
        "        final_words = remove_stop_words(lemmatized_words)\n",
        "        cleaned_data.append(\" \".join(lemmatized_words))\n",
        "    return cleaned_data\n",
        "\n"
      ]
    },
    {
      "cell_type": "code",
      "execution_count": null,
      "id": "2d44ecab-1f5c-4eae-8a9e-55403b022148",
      "metadata": {
        "colab": {
          "base_uri": "https://localhost:8080/",
          "height": 35
        },
        "id": "2d44ecab-1f5c-4eae-8a9e-55403b022148",
        "outputId": "46b97f47-ef24-4535-dccb-ca03fd75472b"
      },
      "outputs": [
        {
          "output_type": "execute_result",
          "data": {
            "text/plain": [
              "'ppl talk bad about the ghettohood but a a kid growing up a nigga had funnnnnnn'"
            ],
            "application/vnd.google.colaboratory.intrinsic+json": {
              "type": "string"
            }
          },
          "metadata": {},
          "execution_count": 56
        }
      ],
      "source": [
        "df['clean_tweet'] = clean_data(df['tweet'])\n",
        "df['clean_tweet'][9]"
      ]
    },
    {
      "cell_type": "code",
      "execution_count": null,
      "id": "01c6503d-ebd9-4aea-8242-78f2f9d10a28",
      "metadata": {
        "colab": {
          "base_uri": "https://localhost:8080/"
        },
        "id": "01c6503d-ebd9-4aea-8242-78f2f9d10a28",
        "outputId": "5bf82265-41f7-452e-e810-d6bef3441a85"
      },
      "outputs": [
        {
          "output_type": "stream",
          "name": "stdout",
          "text": [
            "Number of features (unique words) before limiting: 11195\n"
          ]
        }
      ],
      "source": [
        "#Bag-of-Words\n",
        "from sklearn.feature_extraction.text import CountVectorizer\n",
        "vectorizer = CountVectorizer()\n",
        "\n",
        "X = vectorizer.fit_transform(df['clean_tweet']).toarray()\n",
        "y = df['hate_speech_count']\n",
        "\n",
        "vocabulary_size = len(vectorizer.vocabulary_)\n",
        "\n",
        "print(\"Number of features (unique words) before limiting:\", vocabulary_size)"
      ]
    },
    {
      "cell_type": "code",
      "execution_count": null,
      "id": "98fe2391-2f21-4bd8-8da5-984f804442ea",
      "metadata": {
        "id": "98fe2391-2f21-4bd8-8da5-984f804442ea"
      },
      "outputs": [],
      "source": [
        "from sklearn.model_selection import train_test_split\n",
        "from sklearn.naive_bayes import MultinomialNB\n",
        "from sklearn.metrics import accuracy_score, classification_report\n",
        "from sklearn.linear_model import LogisticRegression\n",
        "\n"
      ]
    },
    {
      "cell_type": "code",
      "execution_count": null,
      "id": "0d2d3c3e-3bc4-4115-82ce-ecb63a7721d4",
      "metadata": {
        "id": "0d2d3c3e-3bc4-4115-82ce-ecb63a7721d4",
        "colab": {
          "base_uri": "https://localhost:8080/"
        },
        "outputId": "6e38b0dd-250f-404d-8450-2b3fa55f5ec0"
      },
      "outputs": [
        {
          "output_type": "stream",
          "name": "stdout",
          "text": [
            "Accuracy: 0.735820895522388\n",
            "Precision: 0.6800966962127317\n",
            "Recall: 0.8629856850715747\n",
            "F1-score: 0.7607030193780983\n",
            "Accuracy: 0.7572139303482587\n",
            "Precision: 0.718801996672213\n",
            "Recall: 0.8520710059171598\n",
            "F1-score: 0.779783393501805\n",
            "Accuracy: 0.7477611940298508\n",
            "Precision: 0.7012048192771084\n",
            "Recall: 0.8660714285714286\n",
            "F1-score: 0.7749667110519308\n",
            "Accuracy: 0.744776119402985\n",
            "Precision: 0.695\n",
            "Recall: 0.8501529051987767\n",
            "F1-score: 0.7647867950481431\n",
            "Accuracy: 0.7398009950248756\n",
            "Precision: 0.6936936936936937\n",
            "Recall: 0.8504016064257028\n",
            "F1-score: 0.7640956247180877\n",
            "Accuracy: 0.7577114427860696\n",
            "Precision: 0.7139323990107173\n",
            "Recall: 0.8608349900596421\n",
            "F1-score: 0.7805317710680486\n",
            "Accuracy: 0.7383084577114428\n",
            "Precision: 0.6858974358974359\n",
            "Recall: 0.8646464646464647\n",
            "F1-score: 0.7649687220732797\n",
            "Accuracy: 0.7368159203980099\n",
            "Precision: 0.6919354838709677\n",
            "Recall: 0.8537313432835821\n",
            "F1-score: 0.7643652561247215\n",
            "Accuracy: 0.7601990049751244\n",
            "Precision: 0.7166392092257001\n",
            "Recall: 0.8630952380952381\n",
            "F1-score: 0.7830783078307831\n",
            "Accuracy: 0.7412935323383084\n",
            "Precision: 0.6982687551525144\n",
            "Recall: 0.8461538461538461\n",
            "F1-score: 0.7651309846431796\n",
            "Accuracy: 0.7557213930348259\n",
            "Precision: 0.7146302250803859\n",
            "Recall: 0.8673170731707317\n",
            "F1-score: 0.7836051123843103\n",
            "Accuracy: 0.7532338308457711\n",
            "Precision: 0.7015663643858203\n",
            "Recall: 0.8639593908629442\n",
            "F1-score: 0.7743403093721565\n",
            "Accuracy: 0.7477611940298508\n",
            "Precision: 0.687653311529027\n",
            "Recall: 0.870600414078675\n",
            "F1-score: 0.7683873915029693\n",
            "Accuracy: 0.7338308457711443\n",
            "Precision: 0.702451394759087\n",
            "Recall: 0.8195266272189349\n",
            "F1-score: 0.7564861174328629\n",
            "Accuracy: 0.7432835820895523\n",
            "Precision: 0.6935355147645651\n",
            "Recall: 0.8681318681318682\n",
            "F1-score: 0.7710736468500444\n",
            "Accuracy: 0.7577114427860696\n",
            "Precision: 0.7263598326359832\n",
            "Recall: 0.8443579766536965\n",
            "F1-score: 0.7809266756635177\n",
            "Accuracy: 0.7402985074626866\n",
            "Precision: 0.6912366912366913\n",
            "Recall: 0.8533872598584429\n",
            "F1-score: 0.7638009049773756\n",
            "Accuracy: 0.7472636815920398\n",
            "Precision: 0.7021969080553295\n",
            "Recall: 0.8587064676616916\n",
            "F1-score: 0.7726051924798567\n",
            "Accuracy: 0.7293532338308458\n",
            "Precision: 0.6909239574816026\n",
            "Recall: 0.8358061325420376\n",
            "F1-score: 0.756490599820949\n",
            "Accuracy: 0.7393034825870647\n",
            "Precision: 0.688\n",
            "Recall: 0.8651911468812877\n",
            "F1-score: 0.7664884135472371\n"
          ]
        }
      ],
      "source": [
        "#Naive Bayes with BoW\n",
        "#k-fold\n",
        "for i in range(20):\n",
        "  X_train, X_test, y_train, y_test = train_test_split(X, y, test_size=0.2, random_state=i)\n",
        "  naive_bayes_model = MultinomialNB()\n",
        "  naive_bayes_model.fit(X_train, y_train)\n",
        "\n",
        "  y_pred = naive_bayes_model.predict(X_test)\n",
        "  def confusion_matrix(y_test, y_pred):\n",
        "    cm = [[0, 0],\n",
        "          [0, 0]]\n",
        "\n",
        "    for true, pred in zip(y_test, y_pred):\n",
        "        if true == 1 and pred == 1:\n",
        "            cm[1][1] += 1\n",
        "        elif true == 1 and pred == 0:\n",
        "            cm[1][0] += 1\n",
        "        elif true == 0 and pred == 1:\n",
        "            cm[0][1] += 1\n",
        "        elif true == 0 and pred == 0:\n",
        "            cm[0][0] += 1\n",
        "\n",
        "    return cm\n",
        "  cm = confusion_matrix(y_test, y_pred)\n",
        "\n",
        "  def calculate_metrics(confusion_matrix):\n",
        "      TP = confusion_matrix[1][1]\n",
        "      FP = confusion_matrix[0][1]\n",
        "      TN = confusion_matrix[0][0]\n",
        "      FN = confusion_matrix[1][0]\n",
        "\n",
        "      precision = TP / (TP + FP) if (TP + FP) > 0 else 0\n",
        "      recall = TP / (TP + FN) if (TP + FN) > 0 else 0\n",
        "      f1_score = 2 * (precision * recall) / (precision + recall) if (precision + recall) > 0 else 0\n",
        "      return precision, recall, f1_score\n",
        "\n",
        "  precision, recall, f1_score = calculate_metrics(cm)\n",
        "  accuracy = accuracy_score(y_test, y_pred)\n",
        "  print(\"Accuracy:\", accuracy)\n",
        "  print(\"Precision:\", precision)\n",
        "  print(\"Recall:\", recall)\n",
        "  print(\"F1-score:\", f1_score)\n",
        "\n"
      ]
    },
    {
      "cell_type": "code",
      "execution_count": null,
      "id": "d6f203f0-d9db-4968-9cb2-145653afa9a2",
      "metadata": {
        "id": "d6f203f0-d9db-4968-9cb2-145653afa9a2"
      },
      "outputs": [],
      "source": [
        "from sklearn.feature_extraction.text import TfidfVectorizer"
      ]
    },
    {
      "cell_type": "code",
      "execution_count": null,
      "id": "23118328-1400-414d-aa4f-37384e867af6",
      "metadata": {
        "id": "23118328-1400-414d-aa4f-37384e867af6"
      },
      "outputs": [],
      "source": [
        "from sklearn.feature_extraction.text import TfidfVectorizer\n",
        "\n",
        "#TF-IDF\n",
        "X_train, X_test, y_train, y_test = train_test_split(df['clean_tweet'], df['hate_speech_count'], test_size=0.2, random_state=42)\n",
        "tfidf_vectorizer = TfidfVectorizer()\n",
        "\n",
        "X_train_tfidf = tfidf_vectorizer.fit_transform(X_train)\n",
        "X_test_tfidf = tfidf_vectorizer.transform(X_test)"
      ]
    },
    {
      "cell_type": "code",
      "execution_count": null,
      "id": "a54cc059-0f38-4d31-b046-f0e009a656bf",
      "metadata": {
        "id": "a54cc059-0f38-4d31-b046-f0e009a656bf"
      },
      "outputs": [],
      "source": [
        "#Naive Bayes with TF-IDF\n",
        "\n",
        "nb_classifier = MultinomialNB()\n",
        "nb_classifier.fit(X_train_tfidf, y_train)\n",
        "\n",
        "\n",
        "y_pred = nb_classifier.predict(X_test_tfidf)\n"
      ]
    },
    {
      "cell_type": "code",
      "execution_count": null,
      "id": "7b0302d1-e718-4f73-b1d1-72cf58bef436",
      "metadata": {
        "id": "7b0302d1-e718-4f73-b1d1-72cf58bef436",
        "outputId": "5d69fdfb-7f62-426b-fe14-e712f4b588c1",
        "colab": {
          "base_uri": "https://localhost:8080/"
        }
      },
      "outputs": [
        {
          "output_type": "stream",
          "name": "stdout",
          "text": [
            "Accuracy: 0.7398009950248756\n",
            "Precision: 0.7058340180772391\n",
            "Recall: 0.8388671875\n",
            "F1-score: 0.7666220437304775\n"
          ]
        }
      ],
      "source": [
        "\n",
        "cm = confusion_matrix(y_test, y_pred)\n",
        "precision, recall, f1_score = calculate_metrics(cm)\n",
        "accuracy = accuracy_score(y_test, y_pred)\n",
        "print(\"Accuracy:\", accuracy)\n",
        "print(\"Precision:\", precision)\n",
        "print(\"Recall:\", recall)\n",
        "print(\"F1-score:\", f1_score)"
      ]
    },
    {
      "cell_type": "code",
      "execution_count": null,
      "id": "af8cc0e6-11e9-4a70-9c11-85351ddbcd89",
      "metadata": {
        "id": "af8cc0e6-11e9-4a70-9c11-85351ddbcd89"
      },
      "outputs": [],
      "source": []
    },
    {
      "cell_type": "code",
      "execution_count": null,
      "id": "aef799b5-5196-48ef-aac8-de1d0163a94e",
      "metadata": {
        "id": "aef799b5-5196-48ef-aac8-de1d0163a94e"
      },
      "outputs": [],
      "source": []
    },
    {
      "cell_type": "code",
      "execution_count": null,
      "id": "5d196b67-1eeb-4f4b-8b4b-72bdf8806595",
      "metadata": {
        "id": "5d196b67-1eeb-4f4b-8b4b-72bdf8806595"
      },
      "outputs": [],
      "source": []
    },
    {
      "cell_type": "code",
      "execution_count": null,
      "id": "5c646da5-a1ef-4a99-9a8d-fce3f608c9ce",
      "metadata": {
        "id": "5c646da5-a1ef-4a99-9a8d-fce3f608c9ce"
      },
      "outputs": [],
      "source": [
        "\n"
      ]
    },
    {
      "cell_type": "code",
      "execution_count": null,
      "id": "8a1bf114-8b07-4bfd-ad01-1618b1076dd8",
      "metadata": {
        "id": "8a1bf114-8b07-4bfd-ad01-1618b1076dd8"
      },
      "outputs": [],
      "source": []
    }
  ],
  "metadata": {
    "colab": {
      "provenance": []
    },
    "kernelspec": {
      "display_name": "Python 3 (ipykernel)",
      "language": "python",
      "name": "python3"
    },
    "language_info": {
      "codemirror_mode": {
        "name": "ipython",
        "version": 3
      },
      "file_extension": ".py",
      "mimetype": "text/x-python",
      "name": "python",
      "nbconvert_exporter": "python",
      "pygments_lexer": "ipython3",
      "version": "3.8.17"
    }
  },
  "nbformat": 4,
  "nbformat_minor": 5
}